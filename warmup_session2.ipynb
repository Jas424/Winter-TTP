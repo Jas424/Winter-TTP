{
  "nbformat": 4,
  "nbformat_minor": 0,
  "metadata": {
    "colab": {
      "name": "warmup-session2.ipynb",
      "provenance": [],
      "collapsed_sections": [],
      "authorship_tag": "ABX9TyO+QCxbyEXRzo2EqqB5HwGZ",
      "include_colab_link": true
    },
    "kernelspec": {
      "name": "python3",
      "display_name": "Python 3"
    },
    "language_info": {
      "name": "python"
    }
  },
  "cells": [
    {
      "cell_type": "markdown",
      "metadata": {
        "id": "view-in-github",
        "colab_type": "text"
      },
      "source": [
        "<a href=\"https://colab.research.google.com/github/Jas424/Winter-TTP/blob/main/warmup_session2.ipynb\" target=\"_parent\"><img src=\"https://colab.research.google.com/assets/colab-badge.svg\" alt=\"Open In Colab\"/></a>"
      ]
    },
    {
      "cell_type": "markdown",
      "source": [
        "## Using the Slice Syntax\n",
        "1. Select a set of characters from “Hello World” to print\n",
        "2. Print “Hello World” in reverse"
      ],
      "metadata": {
        "id": "1epmuTDsotcd"
      }
    },
    {
      "cell_type": "code",
      "source": [
        "## Random Text\n",
        "txt = \"Hello World\" \n",
        "## Used indexing to output the 6th to 8th element in the string\n",
        "print(txt[6:8])"
      ],
      "metadata": {
        "colab": {
          "base_uri": "https://localhost:8080/"
        },
        "id": "easMrGGCyHQ6",
        "outputId": "7dde374a-818f-42ac-bb6a-afa5062249c8"
      },
      "execution_count": 17,
      "outputs": [
        {
          "output_type": "stream",
          "name": "stdout",
          "text": [
            "Wo\n"
          ]
        }
      ]
    },
    {
      "cell_type": "code",
      "execution_count": 18,
      "metadata": {
        "id": "gjQAraRAhjy_"
      },
      "outputs": [],
      "source": [
        "## -1 means start at the end of the string and end at position 0, move with the step -1, negative one, which means one step backwards\n",
        "txt = \"Hello World\"[::-1] "
      ]
    },
    {
      "cell_type": "markdown",
      "source": [
        "## Using input(function)\n",
        "\n",
        "\n",
        "3. Print user input in reverse\n",
        "4. Print user input in a sentence"
      ],
      "metadata": {
        "id": "-u815mlXoc7N"
      }
    },
    {
      "cell_type": "code",
      "source": [
        "## -1 means start at the end of the string and end at position 0, move with the step -1, negative one, which means one step backwards\n",
        "s = input(\"Enter a string: \") \n",
        "print (s[::-1])"
      ],
      "metadata": {
        "colab": {
          "base_uri": "https://localhost:8080/"
        },
        "id": "yAwWXd0EzLcy",
        "outputId": "d7219306-2a56-44f2-f3d8-28bdc870f466"
      },
      "execution_count": 19,
      "outputs": [
        {
          "output_type": "stream",
          "name": "stdout",
          "text": [
            "Enter a string: JAS\n",
            "SAJ\n"
          ]
        }
      ]
    },
    {
      "cell_type": "code",
      "source": [
        "Food = input(\"What will you be eating for lunch today? \") ## Asked user what he or she will be eating\n",
        "Ans = \"I will also be eating \" + Food + \".\" ## The reponse prompts with the the user saying that they eat the same food entered in input. \n",
        "print(Ans)"
      ],
      "metadata": {
        "colab": {
          "base_uri": "https://localhost:8080/"
        },
        "id": "OT94RZn0zsKt",
        "outputId": "14bb34d2-cc79-40f3-bd55-8112fda521d8"
      },
      "execution_count": 11,
      "outputs": [
        {
          "output_type": "stream",
          "name": "stdout",
          "text": [
            "What will you be eating for lunch today? pizza\n",
            "I will also be eating pizza.\n"
          ]
        }
      ]
    },
    {
      "cell_type": "markdown",
      "source": [
        "## Using the type() function\n",
        "print out the type of three objects\n",
        "5. Find the type of three objects"
      ],
      "metadata": {
        "id": "R2eyDBrc0V3Q"
      }
    },
    {
      "cell_type": "code",
      "source": [
        "a = \"LOL\" ##string\n",
        "b = 1 ##int\n",
        "c = 2.0 ##float\n",
        "\n",
        "print(type(a)) ## Type() funstion displays the type of objects\n",
        "print(type(b))\n",
        "print(type(c))"
      ],
      "metadata": {
        "colab": {
          "base_uri": "https://localhost:8080/"
        },
        "id": "PU3QnnHN0Vv8",
        "outputId": "d49c32b3-cc4f-48eb-b235-b28718c9b3f7"
      },
      "execution_count": 7,
      "outputs": [
        {
          "output_type": "stream",
          "name": "stdout",
          "text": [
            "<class 'str'>\n",
            "<class 'int'>\n",
            "<class 'float'>\n"
          ]
        }
      ]
    },
    {
      "cell_type": "markdown",
      "source": [
        "##Perform algebraic operations\n",
        "6. Add two numbers together\n",
        "7. Find the square root of 5 numbers\n",
        "8. Find the whole number of 5 division problems"
      ],
      "metadata": {
        "id": "iDWTVi6Q0VoH"
      }
    },
    {
      "cell_type": "code",
      "source": [
        "(a)=10 \n",
        "print(a)"
      ],
      "metadata": {
        "colab": {
          "base_uri": "https://localhost:8080/"
        },
        "id": "nTK3X2Gjmduf",
        "outputId": "6c2d3031-429c-4baf-b94e-8bc411298941"
      },
      "execution_count": null,
      "outputs": [
        {
          "output_type": "stream",
          "name": "stdout",
          "text": [
            "10\n"
          ]
        }
      ]
    },
    {
      "cell_type": "code",
      "source": [
        "(b)=20\n",
        "print(b)"
      ],
      "metadata": {
        "colab": {
          "base_uri": "https://localhost:8080/"
        },
        "id": "e1nInZr0mk1u",
        "outputId": "933eda2e-02d3-434e-fd26-0358b9f4152f"
      },
      "execution_count": null,
      "outputs": [
        {
          "output_type": "stream",
          "name": "stdout",
          "text": [
            "20\n"
          ]
        }
      ]
    },
    {
      "cell_type": "code",
      "source": [
        "print(a*b) ## Multiplication"
      ],
      "metadata": {
        "colab": {
          "base_uri": "https://localhost:8080/"
        },
        "id": "ey_YMOHRmrzn",
        "outputId": "a21dc542-1b7b-4bf0-dc05-5deb3ea4f650"
      },
      "execution_count": null,
      "outputs": [
        {
          "output_type": "stream",
          "name": "stdout",
          "text": [
            "200\n"
          ]
        }
      ]
    },
    {
      "cell_type": "code",
      "source": [
        "(d)= 10000.  ## Random Values\n",
        "(e)= 64\n",
        "(f)= 81\n",
        "(g)=144\n",
        "(h)=169"
      ],
      "metadata": {
        "id": "cBpN35TLm7FL"
      },
      "execution_count": null,
      "outputs": []
    },
    {
      "cell_type": "code",
      "source": [
        "print(d ** 0.5). ## Square root of values\n",
        "print(e ** 0.5)\n",
        "print(f ** 0.5)\n",
        "print(g ** 0.5)\n",
        "print(h ** 0.5)"
      ],
      "metadata": {
        "colab": {
          "base_uri": "https://localhost:8080/"
        },
        "id": "ddV0hCogng3l",
        "outputId": "7b319c53-a843-4291-f939-55d8844f6856"
      },
      "execution_count": null,
      "outputs": [
        {
          "output_type": "stream",
          "name": "stdout",
          "text": [
            "100.0\n",
            "8.0\n",
            "9.0\n",
            "12.0\n",
            "13.0\n"
          ]
        }
      ]
    },
    {
      "cell_type": "code",
      "source": [
        "print(1000// 2)  ## Division of 5 problems but it inly displays the whole number\n",
        "print(365 // 2) \n",
        "print(345 // 2) \n",
        "print(2221// 2) \n",
        "print(103 // 2) \n",
        "\n"
      ],
      "metadata": {
        "colab": {
          "base_uri": "https://localhost:8080/"
        },
        "id": "viL_f3f71yxu",
        "outputId": "851cd751-a068-4e30-9552-11105e0ad657"
      },
      "execution_count": 11,
      "outputs": [
        {
          "output_type": "stream",
          "name": "stdout",
          "text": [
            "500\n",
            "182\n",
            "172\n",
            "1110\n",
            "51\n"
          ]
        }
      ]
    },
    {
      "cell_type": "markdown",
      "source": [
        "## Lists and Arrays\n",
        "9. Create two lists and combine them\n",
        "10. Create two arrays and combine them"
      ],
      "metadata": {
        "id": "YOWF7-Ioqq7d"
      }
    },
    {
      "cell_type": "code",
      "source": [
        "listone = [1, 2, 3]\n",
        "listtwo = [4, 5, 6]\n",
        "\n",
        "print(listone + listtwo) ## Two lists are being combined"
      ],
      "metadata": {
        "colab": {
          "base_uri": "https://localhost:8080/"
        },
        "id": "AGgdKIa0n6F2",
        "outputId": "e47ef3d6-9b6a-4d26-ec47-b9f8cf32c5b9"
      },
      "execution_count": null,
      "outputs": [
        {
          "output_type": "stream",
          "name": "stdout",
          "text": [
            "[1, 2, 3, 4, 5, 6]\n"
          ]
        }
      ]
    },
    {
      "cell_type": "code",
      "source": [
        "cars = [\"Ford\", \"Volvo\", \"BMW\"]\n",
        "colors = [\"blue\", \"red\", \"green\"]\n",
        "\n",
        "print(colors + cars) ## Two arrays are being combined"
      ],
      "metadata": {
        "colab": {
          "base_uri": "https://localhost:8080/"
        },
        "id": "FtkknQQOqwpw",
        "outputId": "4aecf420-ebba-4a4b-f84e-afeb1e28ad49"
      },
      "execution_count": null,
      "outputs": [
        {
          "output_type": "stream",
          "name": "stdout",
          "text": [
            "['blue', 'red', 'green', 'Ford', 'Volvo', 'BMW']\n"
          ]
        }
      ]
    },
    {
      "cell_type": "markdown",
      "source": [
        "## Converting Objects\n",
        "\n",
        "11. Convert 5 objects from one type to another(ex. Int to Float)\n",
        "12. Convert a lowercase string to an UPPERCASE STRING"
      ],
      "metadata": {
        "id": "0xw2F5k7stPy"
      }
    },
    {
      "cell_type": "code",
      "source": [
        "x = 123 ## int\n",
        "y = 78  ## int\n",
        "z= 1.0  ## float\n",
        "j= 9.0  ## float\n",
        "h= 1175 ## int\n",
        "\n",
        "a1 = float(x) ## int to float\n",
        "a2 = float(y) ## int to float\n",
        "a3 = int(z)   ## float to int\n",
        "a4 = int(j)   ## float to int\n",
        "a5 = float(h) ## int to float\n",
        "\n",
        "print(a1)\n",
        "print(a2)\n",
        "print(a3)\n",
        "print(a4)\n",
        "print(a5)"
      ],
      "metadata": {
        "id": "InLrTgN-szrT",
        "colab": {
          "base_uri": "https://localhost:8080/"
        },
        "outputId": "5b75faab-3561-4d3d-935b-f66fc5920bd7"
      },
      "execution_count": 13,
      "outputs": [
        {
          "output_type": "stream",
          "name": "stdout",
          "text": [
            "123.0\n",
            "78.0\n",
            "1\n",
            "9\n",
            "1175.0\n"
          ]
        }
      ]
    },
    {
      "cell_type": "code",
      "source": [
        "text = \"jas\"\n",
        "print(text.upper()) ## Function makes lowercase string into on uppercase one"
      ],
      "metadata": {
        "colab": {
          "base_uri": "https://localhost:8080/"
        },
        "id": "DiYfcGXxiELQ",
        "outputId": "aa78880c-a979-4378-8d49-d7ba49868cc5"
      },
      "execution_count": 4,
      "outputs": [
        {
          "output_type": "stream",
          "name": "stdout",
          "text": [
            "JAS\n"
          ]
        }
      ]
    },
    {
      "cell_type": "markdown",
      "source": [
        "##Challange Section\n",
        "\n",
        "13. Print out the word “Python”, one letter at a time\n",
        "14. Print an object from a list of objects\n",
        "15. BONUS!!! Get the version of Python being used"
      ],
      "metadata": {
        "id": "cDj-Ya7Cil61"
      }
    },
    {
      "cell_type": "code",
      "source": [
        "my_string = \"Python\" \n",
        "\n",
        "for letter in my_string: ##in this line I create a for loop to iterate through my list of letters\n",
        "\n",
        "  print(letter)"
      ],
      "metadata": {
        "colab": {
          "base_uri": "https://localhost:8080/"
        },
        "id": "ZWg1vniyiK7v",
        "outputId": "2a68c590-8a3f-4a61-c844-7dd75c69d627"
      },
      "execution_count": 15,
      "outputs": [
        {
          "output_type": "stream",
          "name": "stdout",
          "text": [
            "P\n",
            "y\n",
            "t\n",
            "h\n",
            "o\n",
            "n\n"
          ]
        }
      ]
    },
    {
      "cell_type": "code",
      "source": [
        "print(my_string[2]) ## Used indexing to output the 2nd element in the string"
      ],
      "metadata": {
        "colab": {
          "base_uri": "https://localhost:8080/"
        },
        "id": "iEDjpwewic07",
        "outputId": "450c121f-e454-4b7b-c487-c0dab351e6e7"
      },
      "execution_count": 8,
      "outputs": [
        {
          "output_type": "stream",
          "name": "stdout",
          "text": [
            "t\n"
          ]
        }
      ]
    },
    {
      "cell_type": "code",
      "source": [
        "import sys\n",
        "print(\"Python version\")\n",
        "print(sys.version)\n",
        "print(\"Version info.\")\n",
        "print(sys.version_info)"
      ],
      "metadata": {
        "colab": {
          "base_uri": "https://localhost:8080/"
        },
        "id": "7sgK_zYXotVK",
        "outputId": "04acd9a9-1851-47f2-a881-8a28f16877bc"
      },
      "execution_count": 16,
      "outputs": [
        {
          "output_type": "stream",
          "name": "stdout",
          "text": [
            "Python version\n",
            "3.7.12 (default, Sep 10 2021, 00:21:48) \n",
            "[GCC 7.5.0]\n",
            "Version info.\n",
            "sys.version_info(major=3, minor=7, micro=12, releaselevel='final', serial=0)\n"
          ]
        }
      ]
    }
  ]
}